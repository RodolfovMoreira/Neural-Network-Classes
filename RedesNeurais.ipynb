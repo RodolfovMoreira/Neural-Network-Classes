{
  "nbformat": 4,
  "nbformat_minor": 0,
  "metadata": {
    "colab": {
      "name": "RedesNeurais.ipynb",
      "provenance": [],
      "authorship_tag": "ABX9TyOGsdtQP1TAKOlhwY7POAmM",
      "include_colab_link": true
    },
    "kernelspec": {
      "name": "python3",
      "display_name": "Python 3"
    }
  },
  "cells": [
    {
      "cell_type": "markdown",
      "metadata": {
        "id": "view-in-github",
        "colab_type": "text"
      },
      "source": [
        "<a href=\"https://colab.research.google.com/github/RodolfovMoreira/Neural-Network-Classes/blob/main/RedesNeurais.ipynb\" target=\"_parent\"><img src=\"https://colab.research.google.com/assets/colab-badge.svg\" alt=\"Open In Colab\"/></a>"
      ]
    },
    {
      "cell_type": "markdown",
      "metadata": {
        "id": "1emw7BS_90Z3"
      },
      "source": [
        "# **Neural Networks**\n",
        "\n",
        "Hi! Glad you're here! In this notebook, you're going to witness my adventures in Neural Networks classes, taken during COVID-19 lockdown.\n",
        "\n",
        "\n",
        "## **Introduction**\n",
        "### October 13th\n",
        "- Study chapter 1 of the online reference Neural Networks and Deep Learning.\n",
        "- Execute the chapter codes.\n",
        "- Submit the codes via _github_ / google collab."
      ]
    }
  ]
}